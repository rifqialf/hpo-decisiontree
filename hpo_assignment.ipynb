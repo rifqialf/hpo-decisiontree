{
 "cells": [
  {
   "cell_type": "markdown",
   "id": "ed592307-32e5-4391-b502-8f4d5e843490",
   "metadata": {},
   "source": [
    "# Assignment 3 - Hyperparameter Optimalization"
   ]
  },
  {
   "cell_type": "markdown",
   "id": "85b702dd-b549-4760-9a46-d224d209b108",
   "metadata": {},
   "source": [
    "In this assignment, we are tasked to perform supervised Machine Learning and incoporate Dask implementation and Hyperparameter Optimization.\n",
    "\n",
    "We retrieved dataset from EuroSAT for land use and land cover (LULC). After pre-processing the data using Pandas dataframe and split the data for training and validation, we performed Decision Tree algorithm to create classifier model to classify the LULC classes. We also performed Hyperparameter Optimization to find the best parameter combination using the generated model. Lastly, we provided arguments over some discussion points about the overall assignment."
   ]
  },
  {
   "cell_type": "markdown",
   "id": "208d9711-cd65-47d6-bae4-8ebff35615fc",
   "metadata": {},
   "source": [
    "Below are the modules used in this assignment."
   ]
  },
  {
   "cell_type": "code",
   "execution_count": 1,
   "id": "d68a3821-c18c-4cbd-b5a7-11e948817e53",
   "metadata": {},
   "outputs": [],
   "source": [
    "import rasterio\n",
    "import rasterio.features\n",
    "import rasterio.warp\n",
    "import geojson"
   ]
  },
  {
   "cell_type": "code",
   "execution_count": 2,
   "id": "cc83a247-7c78-4869-8e5c-5347b1e844c1",
   "metadata": {},
   "outputs": [],
   "source": [
    "import os\n",
    "from os.path import isfile, join\n",
    "import pandas as pd\n",
    "import numpy as np\n",
    "import time"
   ]
  },
  {
   "cell_type": "code",
   "execution_count": 3,
   "id": "d7d8dcf7-afb4-4e0c-89ff-ada1b79fb07b",
   "metadata": {},
   "outputs": [],
   "source": [
    "import pandas as pd\n",
    "from sklearn.preprocessing import LabelEncoder\n",
    "from sklearn.tree import DecisionTreeClassifier\n",
    "from sklearn.inspection import permutation_importance\n",
    "from sklearn.metrics import accuracy_score\n",
    "from sklearn.metrics import classification_report\n",
    "from sklearn.tree import plot_tree\n",
    "import matplotlib.pyplot as plt\n",
    "\n",
    "from sklearn.model_selection import GridSearchCV\n",
    "from sklearn.datasets import make_classification"
   ]
  },
  {
   "cell_type": "code",
   "execution_count": 4,
   "id": "26645f96-61eb-4006-9a3c-d869d68a0a39",
   "metadata": {},
   "outputs": [],
   "source": [
    "import dask.dataframe as dd\n",
    "from dask.distributed import Client\n",
    "from dask_ml.model_selection import train_test_split"
   ]
  },
  {
   "cell_type": "code",
   "execution_count": 5,
   "id": "d16ccbe6-c266-4fdf-8e08-6e1b4b184baf",
   "metadata": {},
   "outputs": [
    {
     "data": {
      "text/html": [
       "<div>\n",
       "    <div style=\"width: 24px; height: 24px; background-color: #e1e1e1; border: 3px solid #9D9D9D; border-radius: 5px; position: absolute;\"> </div>\n",
       "    <div style=\"margin-left: 48px;\">\n",
       "        <h3 style=\"margin-bottom: 0px;\">Client</h3>\n",
       "        <p style=\"color: #9D9D9D; margin-bottom: 0px;\">Client-0fc24590-7c21-11ee-8ed1-02420a013bb8</p>\n",
       "        <table style=\"width: 100%; text-align: left;\">\n",
       "\n",
       "        <tr>\n",
       "        \n",
       "            <td style=\"text-align: left;\"><strong>Connection method:</strong> Cluster object</td>\n",
       "            <td style=\"text-align: left;\"><strong>Cluster type:</strong> distributed.LocalCluster</td>\n",
       "        \n",
       "        </tr>\n",
       "\n",
       "        \n",
       "            <tr>\n",
       "                <td style=\"text-align: left;\">\n",
       "                    <strong>Dashboard: </strong> <a href=\"http://127.0.0.1:8787/status\" target=\"_blank\">http://127.0.0.1:8787/status</a>\n",
       "                </td>\n",
       "                <td style=\"text-align: left;\"></td>\n",
       "            </tr>\n",
       "        \n",
       "\n",
       "        </table>\n",
       "\n",
       "        \n",
       "            <details>\n",
       "            <summary style=\"margin-bottom: 20px;\"><h3 style=\"display: inline;\">Cluster Info</h3></summary>\n",
       "            <div class=\"jp-RenderedHTMLCommon jp-RenderedHTML jp-mod-trusted jp-OutputArea-output\">\n",
       "    <div style=\"width: 24px; height: 24px; background-color: #e1e1e1; border: 3px solid #9D9D9D; border-radius: 5px; position: absolute;\">\n",
       "    </div>\n",
       "    <div style=\"margin-left: 48px;\">\n",
       "        <h3 style=\"margin-bottom: 0px; margin-top: 0px;\">LocalCluster</h3>\n",
       "        <p style=\"color: #9D9D9D; margin-bottom: 0px;\">84a6ecf0</p>\n",
       "        <table style=\"width: 100%; text-align: left;\">\n",
       "            <tr>\n",
       "                <td style=\"text-align: left;\">\n",
       "                    <strong>Dashboard:</strong> <a href=\"http://127.0.0.1:8787/status\" target=\"_blank\">http://127.0.0.1:8787/status</a>\n",
       "                </td>\n",
       "                <td style=\"text-align: left;\">\n",
       "                    <strong>Workers:</strong> 4\n",
       "                </td>\n",
       "            </tr>\n",
       "            <tr>\n",
       "                <td style=\"text-align: left;\">\n",
       "                    <strong>Total threads:</strong> 8\n",
       "                </td>\n",
       "                <td style=\"text-align: left;\">\n",
       "                    <strong>Total memory:</strong> 28.00 GiB\n",
       "                </td>\n",
       "            </tr>\n",
       "            \n",
       "            <tr>\n",
       "    <td style=\"text-align: left;\"><strong>Status:</strong> running</td>\n",
       "    <td style=\"text-align: left;\"><strong>Using processes:</strong> True</td>\n",
       "</tr>\n",
       "\n",
       "            \n",
       "        </table>\n",
       "\n",
       "        <details>\n",
       "            <summary style=\"margin-bottom: 20px;\">\n",
       "                <h3 style=\"display: inline;\">Scheduler Info</h3>\n",
       "            </summary>\n",
       "\n",
       "            <div style=\"\">\n",
       "    <div>\n",
       "        <div style=\"width: 24px; height: 24px; background-color: #FFF7E5; border: 3px solid #FF6132; border-radius: 5px; position: absolute;\"> </div>\n",
       "        <div style=\"margin-left: 48px;\">\n",
       "            <h3 style=\"margin-bottom: 0px;\">Scheduler</h3>\n",
       "            <p style=\"color: #9D9D9D; margin-bottom: 0px;\">Scheduler-e71cd526-3b48-4862-92df-799293448f36</p>\n",
       "            <table style=\"width: 100%; text-align: left;\">\n",
       "                <tr>\n",
       "                    <td style=\"text-align: left;\">\n",
       "                        <strong>Comm:</strong> tcp://127.0.0.1:44631\n",
       "                    </td>\n",
       "                    <td style=\"text-align: left;\">\n",
       "                        <strong>Workers:</strong> 4\n",
       "                    </td>\n",
       "                </tr>\n",
       "                <tr>\n",
       "                    <td style=\"text-align: left;\">\n",
       "                        <strong>Dashboard:</strong> <a href=\"http://127.0.0.1:8787/status\" target=\"_blank\">http://127.0.0.1:8787/status</a>\n",
       "                    </td>\n",
       "                    <td style=\"text-align: left;\">\n",
       "                        <strong>Total threads:</strong> 8\n",
       "                    </td>\n",
       "                </tr>\n",
       "                <tr>\n",
       "                    <td style=\"text-align: left;\">\n",
       "                        <strong>Started:</strong> Just now\n",
       "                    </td>\n",
       "                    <td style=\"text-align: left;\">\n",
       "                        <strong>Total memory:</strong> 28.00 GiB\n",
       "                    </td>\n",
       "                </tr>\n",
       "            </table>\n",
       "        </div>\n",
       "    </div>\n",
       "\n",
       "    <details style=\"margin-left: 48px;\">\n",
       "        <summary style=\"margin-bottom: 20px;\">\n",
       "            <h3 style=\"display: inline;\">Workers</h3>\n",
       "        </summary>\n",
       "\n",
       "        \n",
       "        <div style=\"margin-bottom: 20px;\">\n",
       "            <div style=\"width: 24px; height: 24px; background-color: #DBF5FF; border: 3px solid #4CC9FF; border-radius: 5px; position: absolute;\"> </div>\n",
       "            <div style=\"margin-left: 48px;\">\n",
       "            <details>\n",
       "                <summary>\n",
       "                    <h4 style=\"margin-bottom: 0px; display: inline;\">Worker: 0</h4>\n",
       "                </summary>\n",
       "                <table style=\"width: 100%; text-align: left;\">\n",
       "                    <tr>\n",
       "                        <td style=\"text-align: left;\">\n",
       "                            <strong>Comm: </strong> tcp://127.0.0.1:44777\n",
       "                        </td>\n",
       "                        <td style=\"text-align: left;\">\n",
       "                            <strong>Total threads: </strong> 2\n",
       "                        </td>\n",
       "                    </tr>\n",
       "                    <tr>\n",
       "                        <td style=\"text-align: left;\">\n",
       "                            <strong>Dashboard: </strong> <a href=\"http://127.0.0.1:37501/status\" target=\"_blank\">http://127.0.0.1:37501/status</a>\n",
       "                        </td>\n",
       "                        <td style=\"text-align: left;\">\n",
       "                            <strong>Memory: </strong> 7.00 GiB\n",
       "                        </td>\n",
       "                    </tr>\n",
       "                    <tr>\n",
       "                        <td style=\"text-align: left;\">\n",
       "                            <strong>Nanny: </strong> tcp://127.0.0.1:33755\n",
       "                        </td>\n",
       "                        <td style=\"text-align: left;\"></td>\n",
       "                    </tr>\n",
       "                    <tr>\n",
       "                        <td colspan=\"2\" style=\"text-align: left;\">\n",
       "                            <strong>Local directory: </strong> /tmp/dask-worker-space/dask-worker-space/worker-3ygehb2b\n",
       "                        </td>\n",
       "                    </tr>\n",
       "\n",
       "                    \n",
       "\n",
       "                    \n",
       "\n",
       "                </table>\n",
       "            </details>\n",
       "            </div>\n",
       "        </div>\n",
       "        \n",
       "        <div style=\"margin-bottom: 20px;\">\n",
       "            <div style=\"width: 24px; height: 24px; background-color: #DBF5FF; border: 3px solid #4CC9FF; border-radius: 5px; position: absolute;\"> </div>\n",
       "            <div style=\"margin-left: 48px;\">\n",
       "            <details>\n",
       "                <summary>\n",
       "                    <h4 style=\"margin-bottom: 0px; display: inline;\">Worker: 1</h4>\n",
       "                </summary>\n",
       "                <table style=\"width: 100%; text-align: left;\">\n",
       "                    <tr>\n",
       "                        <td style=\"text-align: left;\">\n",
       "                            <strong>Comm: </strong> tcp://127.0.0.1:43999\n",
       "                        </td>\n",
       "                        <td style=\"text-align: left;\">\n",
       "                            <strong>Total threads: </strong> 2\n",
       "                        </td>\n",
       "                    </tr>\n",
       "                    <tr>\n",
       "                        <td style=\"text-align: left;\">\n",
       "                            <strong>Dashboard: </strong> <a href=\"http://127.0.0.1:45455/status\" target=\"_blank\">http://127.0.0.1:45455/status</a>\n",
       "                        </td>\n",
       "                        <td style=\"text-align: left;\">\n",
       "                            <strong>Memory: </strong> 7.00 GiB\n",
       "                        </td>\n",
       "                    </tr>\n",
       "                    <tr>\n",
       "                        <td style=\"text-align: left;\">\n",
       "                            <strong>Nanny: </strong> tcp://127.0.0.1:42909\n",
       "                        </td>\n",
       "                        <td style=\"text-align: left;\"></td>\n",
       "                    </tr>\n",
       "                    <tr>\n",
       "                        <td colspan=\"2\" style=\"text-align: left;\">\n",
       "                            <strong>Local directory: </strong> /tmp/dask-worker-space/dask-worker-space/worker-89_87rki\n",
       "                        </td>\n",
       "                    </tr>\n",
       "\n",
       "                    \n",
       "\n",
       "                    \n",
       "\n",
       "                </table>\n",
       "            </details>\n",
       "            </div>\n",
       "        </div>\n",
       "        \n",
       "        <div style=\"margin-bottom: 20px;\">\n",
       "            <div style=\"width: 24px; height: 24px; background-color: #DBF5FF; border: 3px solid #4CC9FF; border-radius: 5px; position: absolute;\"> </div>\n",
       "            <div style=\"margin-left: 48px;\">\n",
       "            <details>\n",
       "                <summary>\n",
       "                    <h4 style=\"margin-bottom: 0px; display: inline;\">Worker: 2</h4>\n",
       "                </summary>\n",
       "                <table style=\"width: 100%; text-align: left;\">\n",
       "                    <tr>\n",
       "                        <td style=\"text-align: left;\">\n",
       "                            <strong>Comm: </strong> tcp://127.0.0.1:42405\n",
       "                        </td>\n",
       "                        <td style=\"text-align: left;\">\n",
       "                            <strong>Total threads: </strong> 2\n",
       "                        </td>\n",
       "                    </tr>\n",
       "                    <tr>\n",
       "                        <td style=\"text-align: left;\">\n",
       "                            <strong>Dashboard: </strong> <a href=\"http://127.0.0.1:40803/status\" target=\"_blank\">http://127.0.0.1:40803/status</a>\n",
       "                        </td>\n",
       "                        <td style=\"text-align: left;\">\n",
       "                            <strong>Memory: </strong> 7.00 GiB\n",
       "                        </td>\n",
       "                    </tr>\n",
       "                    <tr>\n",
       "                        <td style=\"text-align: left;\">\n",
       "                            <strong>Nanny: </strong> tcp://127.0.0.1:40407\n",
       "                        </td>\n",
       "                        <td style=\"text-align: left;\"></td>\n",
       "                    </tr>\n",
       "                    <tr>\n",
       "                        <td colspan=\"2\" style=\"text-align: left;\">\n",
       "                            <strong>Local directory: </strong> /tmp/dask-worker-space/dask-worker-space/worker-1vji3unc\n",
       "                        </td>\n",
       "                    </tr>\n",
       "\n",
       "                    \n",
       "\n",
       "                    \n",
       "\n",
       "                </table>\n",
       "            </details>\n",
       "            </div>\n",
       "        </div>\n",
       "        \n",
       "        <div style=\"margin-bottom: 20px;\">\n",
       "            <div style=\"width: 24px; height: 24px; background-color: #DBF5FF; border: 3px solid #4CC9FF; border-radius: 5px; position: absolute;\"> </div>\n",
       "            <div style=\"margin-left: 48px;\">\n",
       "            <details>\n",
       "                <summary>\n",
       "                    <h4 style=\"margin-bottom: 0px; display: inline;\">Worker: 3</h4>\n",
       "                </summary>\n",
       "                <table style=\"width: 100%; text-align: left;\">\n",
       "                    <tr>\n",
       "                        <td style=\"text-align: left;\">\n",
       "                            <strong>Comm: </strong> tcp://127.0.0.1:45367\n",
       "                        </td>\n",
       "                        <td style=\"text-align: left;\">\n",
       "                            <strong>Total threads: </strong> 2\n",
       "                        </td>\n",
       "                    </tr>\n",
       "                    <tr>\n",
       "                        <td style=\"text-align: left;\">\n",
       "                            <strong>Dashboard: </strong> <a href=\"http://127.0.0.1:38213/status\" target=\"_blank\">http://127.0.0.1:38213/status</a>\n",
       "                        </td>\n",
       "                        <td style=\"text-align: left;\">\n",
       "                            <strong>Memory: </strong> 7.00 GiB\n",
       "                        </td>\n",
       "                    </tr>\n",
       "                    <tr>\n",
       "                        <td style=\"text-align: left;\">\n",
       "                            <strong>Nanny: </strong> tcp://127.0.0.1:42435\n",
       "                        </td>\n",
       "                        <td style=\"text-align: left;\"></td>\n",
       "                    </tr>\n",
       "                    <tr>\n",
       "                        <td colspan=\"2\" style=\"text-align: left;\">\n",
       "                            <strong>Local directory: </strong> /tmp/dask-worker-space/dask-worker-space/worker-49aoqhzu\n",
       "                        </td>\n",
       "                    </tr>\n",
       "\n",
       "                    \n",
       "\n",
       "                    \n",
       "\n",
       "                </table>\n",
       "            </details>\n",
       "            </div>\n",
       "        </div>\n",
       "        \n",
       "\n",
       "    </details>\n",
       "</div>\n",
       "\n",
       "        </details>\n",
       "    </div>\n",
       "</div>\n",
       "            </details>\n",
       "        \n",
       "\n",
       "    </div>\n",
       "</div>"
      ],
      "text/plain": [
       "<Client: 'tcp://127.0.0.1:44631' processes=4 threads=8, memory=28.00 GiB>"
      ]
     },
     "execution_count": 5,
     "metadata": {},
     "output_type": "execute_result"
    }
   ],
   "source": [
    "from distributed import Client\n",
    "client = Client()\n",
    "client"
   ]
  },
  {
   "cell_type": "code",
   "execution_count": 6,
   "id": "8077d511-76fa-40e6-8bbd-41af4642a2ba",
   "metadata": {},
   "outputs": [],
   "source": [
    "directory_path = '/data/shared/Big-Geodata-Processing-2023-1A/Exercise3/EuroSAT_MS/'"
   ]
  },
  {
   "cell_type": "code",
   "execution_count": 7,
   "id": "9177e922-2e76-4f62-9ac9-b7852ee7c0c4",
   "metadata": {},
   "outputs": [],
   "source": [
    "# function to get the center coordinate of the image\n",
    "def get_cent(filename):\n",
    "    with rasterio.open(filename) as dataset:\n",
    "        # Read the dataset's valid data mask as a ndarray.\n",
    "        mask = dataset.dataset_mask()\n",
    "\n",
    "        # Extract feature shapes and values from the array.\n",
    "        for geom, val in rasterio.features.shapes(\n",
    "                mask, transform=dataset.transform):\n",
    "\n",
    "            # Transform shapes from the dataset's own coordinate\n",
    "            # reference system to CRS84 (EPSG:4326).\n",
    "            geom = rasterio.warp.transform_geom(\n",
    "                dataset.crs, 'EPSG:4326', geom, precision=6)\n",
    "            ls = list(geojson.utils.coords(geom))\n",
    "            x = []\n",
    "            y = []\n",
    "            for row in ls:\n",
    "                x.append(row[0])\n",
    "                y.append(row[1])\n",
    "            cent = [min(y)+(max(y)-min(y))/2,min(x)+(max(x)-min(x))/2]\n",
    "    return cent"
   ]
  },
  {
   "cell_type": "markdown",
   "id": "135beb52-e529-447e-9c70-3b8c358985e9",
   "metadata": {},
   "source": [
    "We selected several features to add from the data. \n",
    "- Mean of each image. Since each of EuroSAT image has been labeled according to its dominant landcover type contained inside that said image, we assumed that each landcover types has different distribution of RGB values in the image.\n",
    "- Median of each image. The rationale is similar to that of mean, but instead of calculating the average value, we assumed that the median of the distributed value might has similar influence to recognize the dominant landcover inside each image.\n",
    "- Range of each image. The rationale is simliar to that of mean and median, but we assumed that the wide of the distribution itself might has similar influence to recognize the dominant landcover inside each image.\n",
    "- NDVI of each image.  NDVI measures the difference between near-infrared and red light reflected from vegetations. The index ranges from -1 to 1. Higher values indicate healthier or denser vegetation. NDVI also helps to differentiate vegetations and non-vegetation landcover such as water bodies. We assumed that this index will be helpful to recognize the images based on the landcover types."
   ]
  },
  {
   "cell_type": "markdown",
   "id": "465bed8c-e1b0-42f1-8c8b-e56765e12f93",
   "metadata": {},
   "source": [
    "Below are defined functions for each features."
   ]
  },
  {
   "cell_type": "code",
   "execution_count": 8,
   "id": "fed9e49a-b83c-4989-b6ba-a1f7d70359aa",
   "metadata": {},
   "outputs": [],
   "source": [
    "def CalculateMean(filename_image):\n",
    "    with rasterio.open(filename_image, 'r') as ds:\n",
    "        img = ds.read()  # read all raster values\n",
    "        rgb = img[1:4,:,:]\n",
    "        return rgb.mean()"
   ]
  },
  {
   "cell_type": "code",
   "execution_count": 9,
   "id": "78494c05-538b-4101-908e-aed3cabcb9ca",
   "metadata": {},
   "outputs": [],
   "source": [
    "def CalculateMedian(filename_image):\n",
    "    with rasterio.open(filename_image, 'r') as ds:\n",
    "        img = ds.read()  # read all raster values\n",
    "        rgb = img[1:4,:,:]\n",
    "        return np.median(rgb)"
   ]
  },
  {
   "cell_type": "code",
   "execution_count": 10,
   "id": "40670185-1487-4514-a169-38387d1edbae",
   "metadata": {},
   "outputs": [],
   "source": [
    "def CalculateRange(filename_image):\n",
    "    with rasterio.open(filename_image, 'r') as ds:\n",
    "        img = ds.read()  # read all raster values\n",
    "        rgb = img[1:4,:,:]\n",
    "        return rgb.max() - rgb.min()"
   ]
  },
  {
   "cell_type": "code",
   "execution_count": 11,
   "id": "3583bf8e-19cf-4d50-99f3-9c8ac1dba7d5",
   "metadata": {},
   "outputs": [],
   "source": [
    "def CalculateNDVIMean(filename_image):\n",
    "    with rasterio.open(filename_image, 'r') as ds:\n",
    "        red = ds.read(4).astype('float32')\n",
    "        nir = ds.read(8).astype('float32')\n",
    "        \n",
    "        mask = np.logical_or((nir + red) == 0, np.isnan(nir + red))\n",
    "        ndvi = np.where(mask, 0, (nir - red) / (nir + red))\n",
    "        np.seterr(divide='ignore', invalid='ignore')\n",
    "        \n",
    "        return  ndvi.mean()"
   ]
  },
  {
   "cell_type": "markdown",
   "id": "dc4ffc3d-a130-4d8f-9cb0-5b935acde274",
   "metadata": {},
   "source": [
    "Below are the code for converting the data and all features into dataframe."
   ]
  },
  {
   "cell_type": "code",
   "execution_count": 12,
   "id": "4f8ae43b-c02a-4536-b7ef-2295da794ae8",
   "metadata": {},
   "outputs": [],
   "source": [
    "# Creating the dataframe structure\n",
    "df = pd.DataFrame(columns=[\"Lat\", \"Lon\", \"Class\", \"Mean\", \"Median\", \"Range\", \"NDVI\"])"
   ]
  },
  {
   "cell_type": "code",
   "execution_count": 13,
   "id": "93cf1541-ad74-4d6a-b7ec-100e7dd88ff7",
   "metadata": {},
   "outputs": [],
   "source": [
    "subfolders = [ f.path for f in os.scandir(directory_path) if f.is_dir() ]"
   ]
  },
  {
   "cell_type": "code",
   "execution_count": 14,
   "id": "1a379732-8cf2-4e1c-9da2-96e23f415ec0",
   "metadata": {},
   "outputs": [
    {
     "name": "stdout",
     "output_type": "stream",
     "text": [
      "Elapsed time: 506.6010329723358 seconds\n"
     ]
    }
   ],
   "source": [
    "#Populating the dataframe \n",
    "start_time = time.time()\n",
    "\n",
    "for i in range(len(subfolders)):\n",
    "    image_path = subfolders[i]\n",
    "    class_name = os.path.basename(image_path)\n",
    "    all_images = [f for f in os.listdir(image_path) if os.path.isfile(join(image_path, f))]\n",
    "    \n",
    "    for j in range(len(all_images)):\n",
    "        cent = get_cent(image_path+'/'+all_images[j])\n",
    "        imgmean = CalculateMean(image_path+'/'+all_images[j])\n",
    "        imgmedian = CalculateMedian(image_path+'/'+all_images[j])\n",
    "        imgrange = CalculateRange(image_path+'/'+all_images[j])\n",
    "        imgndvimean = CalculateNDVIMean(image_path+'/'+all_images[j])\n",
    "        new_row = pd.DataFrame({\n",
    "            \"Lat\": cent[0],\n",
    "            \"Lon\": cent[1],\n",
    "            \"Class\": class_name,\n",
    "            \"Mean\": imgmean,\n",
    "            \"Median\": imgmedian,\n",
    "            \"Range\": imgrange,\n",
    "            \"NDVI\": imgndvimean\n",
    "        }, index=[0])\n",
    "        \n",
    "        df = pd.concat([df, new_row], ignore_index=True)\n",
    "\n",
    "end_time = time.time()\n",
    "elapsed_time = end_time - start_time\n",
    "print(f\"Elapsed time: {elapsed_time} seconds\")"
   ]
  },
  {
   "cell_type": "code",
   "execution_count": 15,
   "id": "3b7be960-b8bc-4b34-b6d7-7e6776780b7d",
   "metadata": {},
   "outputs": [
    {
     "data": {
      "text/html": [
       "<div>\n",
       "<style scoped>\n",
       "    .dataframe tbody tr th:only-of-type {\n",
       "        vertical-align: middle;\n",
       "    }\n",
       "\n",
       "    .dataframe tbody tr th {\n",
       "        vertical-align: top;\n",
       "    }\n",
       "\n",
       "    .dataframe thead th {\n",
       "        text-align: right;\n",
       "    }\n",
       "</style>\n",
       "<table border=\"1\" class=\"dataframe\">\n",
       "  <thead>\n",
       "    <tr style=\"text-align: right;\">\n",
       "      <th></th>\n",
       "      <th>Lat</th>\n",
       "      <th>Lon</th>\n",
       "      <th>Class</th>\n",
       "      <th>Mean</th>\n",
       "      <th>Median</th>\n",
       "      <th>Range</th>\n",
       "      <th>NDVI</th>\n",
       "    </tr>\n",
       "  </thead>\n",
       "  <tbody>\n",
       "    <tr>\n",
       "      <th>0</th>\n",
       "      <td>51.636699</td>\n",
       "      <td>0.409756</td>\n",
       "      <td>Residential</td>\n",
       "      <td>926.669108</td>\n",
       "      <td>929.0</td>\n",
       "      <td>2572</td>\n",
       "      <td>0.331753</td>\n",
       "    </tr>\n",
       "    <tr>\n",
       "      <th>1</th>\n",
       "      <td>43.677658</td>\n",
       "      <td>7.113914</td>\n",
       "      <td>Residential</td>\n",
       "      <td>1109.703206</td>\n",
       "      <td>1071.0</td>\n",
       "      <td>2896</td>\n",
       "      <td>0.416689</td>\n",
       "    </tr>\n",
       "    <tr>\n",
       "      <th>2</th>\n",
       "      <td>51.630671</td>\n",
       "      <td>-0.732539</td>\n",
       "      <td>Residential</td>\n",
       "      <td>957.440999</td>\n",
       "      <td>973.0</td>\n",
       "      <td>1919</td>\n",
       "      <td>0.459261</td>\n",
       "    </tr>\n",
       "    <tr>\n",
       "      <th>3</th>\n",
       "      <td>52.333434</td>\n",
       "      <td>8.017260</td>\n",
       "      <td>Residential</td>\n",
       "      <td>897.033122</td>\n",
       "      <td>913.0</td>\n",
       "      <td>1558</td>\n",
       "      <td>0.381696</td>\n",
       "    </tr>\n",
       "    <tr>\n",
       "      <th>4</th>\n",
       "      <td>43.730154</td>\n",
       "      <td>7.160103</td>\n",
       "      <td>Residential</td>\n",
       "      <td>960.588949</td>\n",
       "      <td>906.0</td>\n",
       "      <td>5396</td>\n",
       "      <td>0.486914</td>\n",
       "    </tr>\n",
       "    <tr>\n",
       "      <th>...</th>\n",
       "      <td>...</td>\n",
       "      <td>...</td>\n",
       "      <td>...</td>\n",
       "      <td>...</td>\n",
       "      <td>...</td>\n",
       "      <td>...</td>\n",
       "      <td>...</td>\n",
       "    </tr>\n",
       "    <tr>\n",
       "      <th>26995</th>\n",
       "      <td>49.216428</td>\n",
       "      <td>16.408736</td>\n",
       "      <td>Highway</td>\n",
       "      <td>1198.619629</td>\n",
       "      <td>1075.5</td>\n",
       "      <td>4717</td>\n",
       "      <td>0.372000</td>\n",
       "    </tr>\n",
       "    <tr>\n",
       "      <th>26996</th>\n",
       "      <td>49.082481</td>\n",
       "      <td>2.728486</td>\n",
       "      <td>Highway</td>\n",
       "      <td>1499.752116</td>\n",
       "      <td>1442.0</td>\n",
       "      <td>2100</td>\n",
       "      <td>0.220752</td>\n",
       "    </tr>\n",
       "    <tr>\n",
       "      <th>26997</th>\n",
       "      <td>37.763857</td>\n",
       "      <td>-3.719099</td>\n",
       "      <td>Highway</td>\n",
       "      <td>1955.841797</td>\n",
       "      <td>1905.0</td>\n",
       "      <td>2414</td>\n",
       "      <td>0.164887</td>\n",
       "    </tr>\n",
       "    <tr>\n",
       "      <th>26998</th>\n",
       "      <td>50.744405</td>\n",
       "      <td>4.544050</td>\n",
       "      <td>Highway</td>\n",
       "      <td>924.569987</td>\n",
       "      <td>916.0</td>\n",
       "      <td>1542</td>\n",
       "      <td>0.530632</td>\n",
       "    </tr>\n",
       "    <tr>\n",
       "      <th>26999</th>\n",
       "      <td>49.773664</td>\n",
       "      <td>9.171549</td>\n",
       "      <td>Highway</td>\n",
       "      <td>1087.016032</td>\n",
       "      <td>1068.0</td>\n",
       "      <td>2291</td>\n",
       "      <td>0.328177</td>\n",
       "    </tr>\n",
       "  </tbody>\n",
       "</table>\n",
       "<p>27000 rows × 7 columns</p>\n",
       "</div>"
      ],
      "text/plain": [
       "             Lat        Lon        Class         Mean  Median Range      NDVI\n",
       "0      51.636699   0.409756  Residential   926.669108   929.0  2572  0.331753\n",
       "1      43.677658   7.113914  Residential  1109.703206  1071.0  2896  0.416689\n",
       "2      51.630671  -0.732539  Residential   957.440999   973.0  1919  0.459261\n",
       "3      52.333434   8.017260  Residential   897.033122   913.0  1558  0.381696\n",
       "4      43.730154   7.160103  Residential   960.588949   906.0  5396  0.486914\n",
       "...          ...        ...          ...          ...     ...   ...       ...\n",
       "26995  49.216428  16.408736      Highway  1198.619629  1075.5  4717  0.372000\n",
       "26996  49.082481   2.728486      Highway  1499.752116  1442.0  2100  0.220752\n",
       "26997  37.763857  -3.719099      Highway  1955.841797  1905.0  2414  0.164887\n",
       "26998  50.744405   4.544050      Highway   924.569987   916.0  1542  0.530632\n",
       "26999  49.773664   9.171549      Highway  1087.016032  1068.0  2291  0.328177\n",
       "\n",
       "[27000 rows x 7 columns]"
      ]
     },
     "execution_count": 15,
     "metadata": {},
     "output_type": "execute_result"
    }
   ],
   "source": [
    "df"
   ]
  },
  {
   "cell_type": "code",
   "execution_count": 16,
   "id": "08f0ecfe-c446-465f-a146-ba53f010ffcf",
   "metadata": {},
   "outputs": [
    {
     "data": {
      "text/html": [
       "<div>\n",
       "<style scoped>\n",
       "    .dataframe tbody tr th:only-of-type {\n",
       "        vertical-align: middle;\n",
       "    }\n",
       "\n",
       "    .dataframe tbody tr th {\n",
       "        vertical-align: top;\n",
       "    }\n",
       "\n",
       "    .dataframe thead th {\n",
       "        text-align: right;\n",
       "    }\n",
       "</style>\n",
       "<table border=\"1\" class=\"dataframe\">\n",
       "  <thead>\n",
       "    <tr style=\"text-align: right;\">\n",
       "      <th></th>\n",
       "      <th>Lat</th>\n",
       "      <th>Lon</th>\n",
       "      <th>Class</th>\n",
       "      <th>Mean</th>\n",
       "      <th>Median</th>\n",
       "      <th>Range</th>\n",
       "      <th>NDVI</th>\n",
       "    </tr>\n",
       "  </thead>\n",
       "  <tbody>\n",
       "    <tr>\n",
       "      <th>0</th>\n",
       "      <td>51.636699</td>\n",
       "      <td>0.409756</td>\n",
       "      <td>Residential</td>\n",
       "      <td>926.669108</td>\n",
       "      <td>929.0</td>\n",
       "      <td>2572</td>\n",
       "      <td>0.331753</td>\n",
       "    </tr>\n",
       "    <tr>\n",
       "      <th>1</th>\n",
       "      <td>43.677658</td>\n",
       "      <td>7.113914</td>\n",
       "      <td>Residential</td>\n",
       "      <td>1109.703206</td>\n",
       "      <td>1071.0</td>\n",
       "      <td>2896</td>\n",
       "      <td>0.416689</td>\n",
       "    </tr>\n",
       "    <tr>\n",
       "      <th>2</th>\n",
       "      <td>51.630671</td>\n",
       "      <td>-0.732539</td>\n",
       "      <td>Residential</td>\n",
       "      <td>957.440999</td>\n",
       "      <td>973.0</td>\n",
       "      <td>1919</td>\n",
       "      <td>0.459261</td>\n",
       "    </tr>\n",
       "    <tr>\n",
       "      <th>3</th>\n",
       "      <td>52.333434</td>\n",
       "      <td>8.017260</td>\n",
       "      <td>Residential</td>\n",
       "      <td>897.033122</td>\n",
       "      <td>913.0</td>\n",
       "      <td>1558</td>\n",
       "      <td>0.381696</td>\n",
       "    </tr>\n",
       "    <tr>\n",
       "      <th>4</th>\n",
       "      <td>43.730154</td>\n",
       "      <td>7.160103</td>\n",
       "      <td>Residential</td>\n",
       "      <td>960.588949</td>\n",
       "      <td>906.0</td>\n",
       "      <td>5396</td>\n",
       "      <td>0.486914</td>\n",
       "    </tr>\n",
       "  </tbody>\n",
       "</table>\n",
       "</div>"
      ],
      "text/plain": [
       "         Lat       Lon        Class         Mean  Median Range      NDVI\n",
       "0  51.636699  0.409756  Residential   926.669108   929.0  2572  0.331753\n",
       "1  43.677658  7.113914  Residential  1109.703206  1071.0  2896  0.416689\n",
       "2  51.630671 -0.732539  Residential   957.440999   973.0  1919  0.459261\n",
       "3  52.333434  8.017260  Residential   897.033122   913.0  1558  0.381696\n",
       "4  43.730154  7.160103  Residential   960.588949   906.0  5396  0.486914"
      ]
     },
     "execution_count": 16,
     "metadata": {},
     "output_type": "execute_result"
    }
   ],
   "source": [
    "ddf = dd.from_pandas(df, npartitions=2)\n",
    "ddf.head()"
   ]
  },
  {
   "cell_type": "markdown",
   "id": "6ce230b7-4eeb-4ada-8cca-f4234372c0ff",
   "metadata": {},
   "source": [
    "# Decision Tree Algorithm"
   ]
  },
  {
   "cell_type": "markdown",
   "id": "053c20ee-5bd3-4ad3-bc13-28f5f51fdfe4",
   "metadata": {},
   "source": [
    "In this section, we performed Decision Tree algorithm for the supervised classification. The reason of this selection is because we defined this assignment to have simple, straightforward classification task based on landcover and include not too many features to address (four features mentioned above). The algorithm is suitable to handle data without requiring any normalisation. We are also helped by this algorithm's functionality to determine feature importance to find out which features are more important in determining landcover type of our images. Furthermore, Decision Tree algorithm has easy to understand rules and suitable for simple tasks."
   ]
  },
  {
   "cell_type": "code",
   "execution_count": 17,
   "id": "7b4dbc97-dd63-4530-9cd4-fc540d17adcc",
   "metadata": {},
   "outputs": [
    {
     "data": {
      "text/html": [
       "<div>\n",
       "<style scoped>\n",
       "    .dataframe tbody tr th:only-of-type {\n",
       "        vertical-align: middle;\n",
       "    }\n",
       "\n",
       "    .dataframe tbody tr th {\n",
       "        vertical-align: top;\n",
       "    }\n",
       "\n",
       "    .dataframe thead th {\n",
       "        text-align: right;\n",
       "    }\n",
       "</style>\n",
       "<table border=\"1\" class=\"dataframe\">\n",
       "  <thead>\n",
       "    <tr style=\"text-align: right;\">\n",
       "      <th></th>\n",
       "      <th>Class</th>\n",
       "      <th>Mean</th>\n",
       "      <th>Median</th>\n",
       "      <th>Range</th>\n",
       "      <th>NDVI</th>\n",
       "    </tr>\n",
       "  </thead>\n",
       "  <tbody>\n",
       "    <tr>\n",
       "      <th>0</th>\n",
       "      <td>Residential</td>\n",
       "      <td>926.669108</td>\n",
       "      <td>929.0</td>\n",
       "      <td>2572</td>\n",
       "      <td>0.331753</td>\n",
       "    </tr>\n",
       "    <tr>\n",
       "      <th>1</th>\n",
       "      <td>Residential</td>\n",
       "      <td>1109.703206</td>\n",
       "      <td>1071.0</td>\n",
       "      <td>2896</td>\n",
       "      <td>0.416689</td>\n",
       "    </tr>\n",
       "    <tr>\n",
       "      <th>2</th>\n",
       "      <td>Residential</td>\n",
       "      <td>957.440999</td>\n",
       "      <td>973.0</td>\n",
       "      <td>1919</td>\n",
       "      <td>0.459261</td>\n",
       "    </tr>\n",
       "    <tr>\n",
       "      <th>3</th>\n",
       "      <td>Residential</td>\n",
       "      <td>897.033122</td>\n",
       "      <td>913.0</td>\n",
       "      <td>1558</td>\n",
       "      <td>0.381696</td>\n",
       "    </tr>\n",
       "    <tr>\n",
       "      <th>4</th>\n",
       "      <td>Residential</td>\n",
       "      <td>960.588949</td>\n",
       "      <td>906.0</td>\n",
       "      <td>5396</td>\n",
       "      <td>0.486914</td>\n",
       "    </tr>\n",
       "  </tbody>\n",
       "</table>\n",
       "</div>"
      ],
      "text/plain": [
       "         Class         Mean  Median Range      NDVI\n",
       "0  Residential   926.669108   929.0  2572  0.331753\n",
       "1  Residential  1109.703206  1071.0  2896  0.416689\n",
       "2  Residential   957.440999   973.0  1919  0.459261\n",
       "3  Residential   897.033122   913.0  1558  0.381696\n",
       "4  Residential   960.588949   906.0  5396  0.486914"
      ]
     },
     "execution_count": 17,
     "metadata": {},
     "output_type": "execute_result"
    }
   ],
   "source": [
    "# Changing the type of all columns to appropriate numerical type\n",
    "ddf.astype({'NDVI': 'float64'})\n",
    "ddf.astype({'Range': 'float64'})\n",
    "\n",
    "# Dropping latitude and longitude as we are not using it as features for the machine learning\n",
    "ddfnocoord = ddf.drop('Lat', axis=1)\n",
    "ddfnocoord = ddfnocoord.drop('Lon', axis=1)\n",
    "ddfnocoord.head()"
   ]
  },
  {
   "cell_type": "code",
   "execution_count": 18,
   "id": "84a020fc-b2ce-4264-a7ef-50725cf57c08",
   "metadata": {},
   "outputs": [],
   "source": [
    "# Splitting the data for training and validation test\n",
    "X = ddfnocoord.drop('Class', axis=1)\n",
    "y = ddfnocoord['Class']\n",
    "\n",
    "X_train, X_test, y_train, y_test = train_test_split(X, y, test_size=0.3, random_state=100, shuffle=False)"
   ]
  },
  {
   "cell_type": "code",
   "execution_count": 19,
   "id": "3903a835-0f5e-4a86-94ba-07051cdfc61f",
   "metadata": {},
   "outputs": [
    {
     "name": "stdout",
     "output_type": "stream",
     "text": [
      "Test accuracy: 0.5915937803692906\n"
     ]
    }
   ],
   "source": [
    "# Creating Decision Tree classification model and fitting it to training dataset\n",
    "model = DecisionTreeClassifier(random_state=100)\n",
    "\n",
    "model.fit(X_train.compute(), y_train.compute())\n",
    "\n",
    "# Measuring the accuracy of trained model through test dataset\n",
    "accuracy = model.score(X_test, y_test)\n",
    "print(\"Test accuracy:\", accuracy)"
   ]
  },
  {
   "cell_type": "code",
   "execution_count": 20,
   "id": "4e501d55-ac4e-4dde-8773-a5faf68851a4",
   "metadata": {},
   "outputs": [
    {
     "name": "stdout",
     "output_type": "stream",
     "text": [
      "  Feature  Importance\n",
      "3    NDVI    0.346767\n",
      "0    Mean    0.277886\n",
      "2   Range    0.216999\n",
      "1  Median    0.158348\n"
     ]
    },
    {
     "data": {
      "image/png": "[encoded data removed]",
      "text/plain": [
       "<Figure size 640x480 with 1 Axes>"
      ]
     },
     "metadata": {},
     "output_type": "display_data"
    }
   ],
   "source": [
    "# Determining feature importance\n",
    "feature_names = X.columns\n",
    "result = model.feature_importances_\n",
    "feature_importances = pd.DataFrame({\"Feature\": feature_names, \"Importance\": result})\n",
    "feature_importances = feature_importances.sort_values(\"Importance\", ascending=False)\n",
    "print(feature_importances)\n",
    "\n",
    "plt.bar(feature_importances[\"Feature\"], feature_importances[\"Importance\"])\n",
    "plt.xlabel(\"Feature\")\n",
    "plt.ylabel(\"Importance\")\n",
    "plt.xticks(rotation=90)\n",
    "plt.title(\"Feature Importance (before Hyperparameter Optimization)\")\n",
    "plt.show()"
   ]
  },
  {
   "cell_type": "markdown",
   "id": "06e748a8-52b6-46f1-b846-4fe4d5e019d0",
   "metadata": {},
   "source": [
    "We observed NDVI as the most important feature the model addresses in classifying images based on the landcover, followed by Mean, Range, and lastly Median. This is a reasonable result as NDVI amongst all the addressed features is the most dependable index in differentiating vegetation and non-vegetation. Meanwhile, other than NDVI, the rest of the features are basic statistical property of the data.\n",
    "\n",
    "It is interesting to observe that Mean has more importance than Median. This might be because it is more plausible to have the image to be represented by one calculated value using the whole image values (mean) compared to the mere middle-point of the data distribution.\n",
    "\n",
    "It is also interesting to see Range to be important enough to not be the least importance. This makes sense since the landcover that label an image will dominate the content of the image, which influence the possibility of a distinctively different landcover with much smaller or higher value."
   ]
  },
  {
   "cell_type": "code",
   "execution_count": 21,
   "id": "20475d72-47ab-44ea-9e7c-6c5104ae51b1",
   "metadata": {},
   "outputs": [
    {
     "name": "stdout",
     "output_type": "stream",
     "text": [
      "Prediction Accuracy: 0.5915937803692906\n",
      "                      precision    recall  f1-score   support\n",
      "\n",
      "          AnnualCrop       0.54      0.54      0.54       898\n",
      "              Forest       0.92      0.91      0.91       913\n",
      "HerbaceousVegetation       0.44      0.43      0.43       926\n",
      "             Highway       0.25      0.25      0.25       770\n",
      "          Industrial       0.72      0.71      0.72       746\n",
      "             Pasture       0.65      0.61      0.63       633\n",
      "       PermanentCrop       0.39      0.43      0.41       768\n",
      "         Residential       0.47      0.49      0.48       936\n",
      "               River       0.56      0.53      0.54       772\n",
      "             SeaLake       0.98      0.98      0.98       870\n",
      "\n",
      "            accuracy                           0.59      8232\n",
      "           macro avg       0.59      0.59      0.59      8232\n",
      "        weighted avg       0.59      0.59      0.59      8232\n",
      "\n"
     ]
    }
   ],
   "source": [
    "# Applying the model to predict test set for result validation\n",
    "predictions = model.predict(X_test)\n",
    "prediction_accuracy = accuracy_score(y_test, predictions)\n",
    "print('Prediction Accuracy:', prediction_accuracy)\n",
    "\n",
    "report = classification_report(y_test, predictions)\n",
    "print(report)"
   ]
  },
  {
   "cell_type": "markdown",
   "id": "9493daf6-2f53-488d-8a10-d4b7b684ce61",
   "metadata": {},
   "source": [
    "After testing the model, we observed a 59.3% accuracy which is a very generic result. We also observed variying result of precision and recall from each landcover, which means the model is not very good in classifying all landcover after all. The model shows very good f1-scores (assumed as summarized value of precisoin and recall) for Forest and SeaLake landcover. This makes sense as NDVI can detect both landcover types very well. HIghway type has the least f1-score which also makes sense as this landcover type commonly a narrow feature on the map that can be surrounded by various landcover types."
   ]
  },
  {
   "cell_type": "markdown",
   "id": "83eaf1b4-5506-4b10-9b4f-2c982ceccca1",
   "metadata": {},
   "source": [
    "# Hyperparameter Optimization"
   ]
  },
  {
   "cell_type": "markdown",
   "id": "601932cf-ac72-415c-9856-e1726bb393d8",
   "metadata": {},
   "source": [
    "In this section, we performed Hyperparameter Optimization. This step systematically searches for the best hyperparameters for our Decition Tree machine learning model. This is achieved by fitting the model multiple times with different combinations of parameters."
   ]
  },
  {
   "cell_type": "code",
   "execution_count": 22,
   "id": "842db01d-d763-4e64-8ef4-2c992c2a1a05",
   "metadata": {},
   "outputs": [],
   "source": [
    "# Define the grid of parameters to search\n",
    "param_grid = {\n",
    "    'max_depth': [None, 10, 20, 30],\n",
    "    'min_samples_split': [2, 5, 10],\n",
    "    'min_samples_leaf': [1, 2, 4]\n",
    "}"
   ]
  },
  {
   "cell_type": "code",
   "execution_count": 23,
   "id": "51196761-20ce-4683-8867-a90ce1b84852",
   "metadata": {},
   "outputs": [
    {
     "name": "stdout",
     "output_type": "stream",
     "text": [
      "Elapsed time: 17.379420280456543 seconds\n"
     ]
    }
   ],
   "source": [
    "# Set up the grid for fitting\n",
    "grid_search = GridSearchCV(model, param_grid, cv=5)\n",
    "\n",
    "# Fit the grid\n",
    "start_time = time.time()\n",
    "grid_search.fit(X_train.compute(), y_train.compute())\n",
    "\n",
    "end_time = time.time()\n",
    "elapsed_time = end_time - start_time\n",
    "print(f\"Elapsed time: {elapsed_time} seconds\")"
   ]
  },
  {
   "cell_type": "code",
   "execution_count": 24,
   "id": "da16414f-a231-4b90-aa70-b58fd940cf59",
   "metadata": {},
   "outputs": [
    {
     "name": "stdout",
     "output_type": "stream",
     "text": [
      "Best parameters: {'max_depth': 10, 'min_samples_leaf': 4, 'min_samples_split': 10}\n",
      "Test set accuracy with best parameters: 0.6126093294460642\n"
     ]
    }
   ],
   "source": [
    "# Get the best parameters\n",
    "best_params = grid_search.best_params_\n",
    "print(\"Best parameters:\", best_params)\n",
    "\n",
    "# Evaluate on the test set\n",
    "grid_accuracy = grid_search.score(X_test, y_test)\n",
    "print(\"Test set accuracy with best parameters:\", grid_accuracy)"
   ]
  },
  {
   "cell_type": "code",
   "execution_count": 25,
   "id": "8be3da2b-b23f-46df-b69d-fca26fd48a48",
   "metadata": {},
   "outputs": [
    {
     "name": "stdout",
     "output_type": "stream",
     "text": [
      "  Feature  Importance\n",
      "3    NDVI    0.435480\n",
      "0    Mean    0.292842\n",
      "2   Range    0.206754\n",
      "1  Median    0.064925\n"
     ]
    },
    {
     "data": {
      "image/png": "[encoded data removed]",
      "text/plain": [
       "<Figure size 640x480 with 1 Axes>"
      ]
     },
     "metadata": {},
     "output_type": "display_data"
    }
   ],
   "source": [
    "# Determining feature importance\n",
    "best_estimator = grid_search.best_estimator_\n",
    "fi = best_estimator.feature_importances_\n",
    "\n",
    "feature_names = X.columns\n",
    "feature_importances = pd.DataFrame({\"Feature\": feature_names, \"Importance\": fi})\n",
    "feature_importances = feature_importances.sort_values(\"Importance\", ascending=False)\n",
    "print(feature_importances)\n",
    "\n",
    "plt.bar(feature_importances[\"Feature\"], feature_importances[\"Importance\"])\n",
    "plt.xlabel(\"Feature\")\n",
    "plt.ylabel(\"Importance\")\n",
    "plt.xticks(rotation=90)\n",
    "plt.title(\"Feature Importance (after Hyperparameter Optimization)\")\n",
    "plt.show()"
   ]
  },
  {
   "cell_type": "markdown",
   "id": "d11b05fc-c9a9-4373-bdb4-cecf5b46e88e",
   "metadata": {},
   "source": [
    "We observed that the order of importance is the same be it before or after implementing hyperparameter optimization (Pre-HPO or Post-HPO). However, we observed difference in the gaps between each features.\n",
    "\n",
    "We see that Post-HPO NDVI feature has higher importance value compared with pre-HPO graph. Although we observed Mean has few increase, but both Range and Median lost their importance in the model. This is especially true to Median as it lost quite significant aomunt of feature importance value. This indicated that by using better combination of parameters, our model proved to work better in determining feature importance."
   ]
  },
  {
   "cell_type": "code",
   "execution_count": 26,
   "id": "4af7dc39-f11a-4b80-8d87-76251593c23d",
   "metadata": {},
   "outputs": [
    {
     "name": "stdout",
     "output_type": "stream",
     "text": [
      "Prediction Accuracy: 0.6126093294460642\n",
      "                      precision    recall  f1-score   support\n",
      "\n",
      "          AnnualCrop       0.57      0.54      0.56       898\n",
      "              Forest       0.93      0.88      0.91       913\n",
      "HerbaceousVegetation       0.39      0.55      0.46       926\n",
      "             Highway       0.40      0.30      0.34       770\n",
      "          Industrial       0.71      0.81      0.76       746\n",
      "             Pasture       0.75      0.59      0.66       633\n",
      "       PermanentCrop       0.40      0.47      0.44       768\n",
      "         Residential       0.47      0.52      0.49       936\n",
      "               River       0.69      0.43      0.53       772\n",
      "             SeaLake       0.99      0.97      0.98       870\n",
      "\n",
      "            accuracy                           0.61      8232\n",
      "           macro avg       0.63      0.61      0.61      8232\n",
      "        weighted avg       0.63      0.61      0.61      8232\n",
      "\n"
     ]
    }
   ],
   "source": [
    "# Applying the model to predict test set for result validation (after Hyperparameter Optimization)\n",
    "grid_predictions = grid_search.predict(X_test)\n",
    "grid_accuracy = accuracy_score(y_test, grid_predictions)\n",
    "print('Prediction Accuracy:', grid_accuracy)\n",
    "\n",
    "grid_report = classification_report(y_test, grid_predictions)\n",
    "print(grid_report)"
   ]
  },
  {
   "cell_type": "markdown",
   "id": "4e1b2c53-d274-4c66-a829-8c29159d08cb",
   "metadata": {},
   "source": [
    "We observed a slight increase in overall accuracy in our Post-HPO performance. This also indicates better parameter combination means better performance for the model."
   ]
  },
  {
   "cell_type": "code",
   "execution_count": 27,
   "id": "92d2c7af-44c9-4417-a4ad-501aca4fe6f9",
   "metadata": {},
   "outputs": [],
   "source": [
    "client.shutdown()"
   ]
  },
  {
   "cell_type": "markdown",
   "id": "1aa7fc62-c370-4421-ae4e-bfadee33bd0c",
   "metadata": {},
   "source": [
    "# Discussion"
   ]
  },
  {
   "cell_type": "markdown",
   "id": "d618a8f1-762a-437a-ad03-485a834b2433",
   "metadata": {},
   "source": [
    "In this section, some discussion points are elaborated."
   ]
  },
  {
   "cell_type": "markdown",
   "id": "c23b1392-5988-4079-b89a-ea59e9853aed",
   "metadata": {},
   "source": [
    "## Can you explain the criteria and rationale behind the features you created? What other features you would select from these images in addition to the mean and range?"
   ]
  },
  {
   "cell_type": "markdown",
   "id": "a397c3c9-56db-41e9-b74f-a049220ad798",
   "metadata": {},
   "source": [
    "As mentioned before, here are the reasonings behind the selected features.\n",
    "- Mean of each image. Since each of EuroSAT image has been labeled according to its dominant landcover type contained inside that said image, we assumed that each landcover types has different distribution of RGB values in the image.\n",
    "- Median of each image. The rationale is similar to that of mean, but instead of calculating the average value, we assumed that the median of the distributed value might has similar influence to recognize the dominant landcover inside each image.\n",
    "- Range of each image. The rationale is simliar to that of mean and median, but we assumed that the wide of the distribution itself might has similar influence to recognize the dominant landcover inside each image.\n",
    "- NDVI of each image.  NDVI measures the difference between near-infrared and red light reflected from vegetations. The index ranges from -1 to 1. Higher values indicate healthier or denser vegetation. NDVI also helps to differentiate vegetations and non-vegetation landcover such as water bodies. We assumed that this index will be helpful to recognize the images based on the landcover types."
   ]
  },
  {
   "cell_type": "markdown",
   "id": "813e999b-7393-4139-940c-0f955564196d",
   "metadata": {},
   "source": [
    "## Why is it important to have separate sets for training, validation, and testing? Which split did you consider and why?"
   ]
  },
  {
   "cell_type": "markdown",
   "id": "1b9a4574-492a-4715-9712-61849dba4e10",
   "metadata": {},
   "source": [
    "Splitting the dataset for training, validation, and testing is essential to validate and evaluate the generated machine learning model performance. The split ratio among these sets can vary. We decided to use 70% training data and 30% test data ratio as it provides balance between enough data the model can learn from and having enough data to evaluate the model performance."
   ]
  },
  {
   "cell_type": "markdown",
   "id": "0bf77d57-6977-42b3-9b0b-b945055a5c99",
   "metadata": {},
   "source": [
    "## What factors influenced your choice of a specific machine learning algorithm?"
   ]
  },
  {
   "cell_type": "markdown",
   "id": "c9a862d0-ff88-49e3-ba33-758d379a21d2",
   "metadata": {},
   "source": [
    "As mentioned before, here are the reason why we chose Decision Tree algorithm for this task.\n",
    "\n",
    "- We defined this assignment to have simple, straightforward classification task based on landcover and include not too many features to address (four features mentioned above).\n",
    "- Decision Tree algorithm is suitable to handle data without requiring any normalisation.\n",
    "- We are also helped by this algorithm's functionality to determine feature importance to find out which features are more important in determining landcover type of our images.\n",
    "- Decision Tree algorithm has easy to understand rules and suitable for simple tasks."
   ]
  },
  {
   "cell_type": "markdown",
   "id": "bee74edf-381f-46e8-bcd8-0b09ae85848d",
   "metadata": {},
   "source": [
    "## How did hyperparameter tuning impact the model's performance, and what were the final hyperparameter settings?"
   ]
  },
  {
   "cell_type": "markdown",
   "id": "09730d49-9e3d-42f9-97ae-e15908e653f8",
   "metadata": {},
   "source": [
    "As mentioned before, below are some observations made from hyperparameter optimization implementation.\n",
    "- We observed that the order of importance is the same be it before or after implementing hyperparameter optimization (Pre-HPO or Post-HPO). However, we observed difference in the gaps between each features.\n",
    "- We observed that Post-HPO NDVI feature has higher importance value compared with pre-HPO graph. Although we observed Mean has few increase, but both Range and Median lost their importance in the model. This is especially true to Median as it lost quite significant aomunt of feature importance value. This indicated that by using better combination of parameters, our model proved to work better in determining feature importance.\n",
    "- We observed a slight increase in overall accuracy in our Post-HPO performance. This also indicates better parameter combination means better performance for the model."
   ]
  },
  {
   "cell_type": "markdown",
   "id": "79097e61-652c-463e-bc36-c3512d6edef7",
   "metadata": {},
   "source": [
    "## What is the impact of using DASK to solve this problem?"
   ]
  },
  {
   "cell_type": "markdown",
   "id": "ec951baf-4717-4593-8c5d-a60b5526b1fe",
   "metadata": {},
   "source": [
    "We implemented Dask in this assignment as shown on our implemented code above. However, we were unable to find a reproducible answer to this question as to how to show Dask influence in our code — other than us doing manually comparation of the time it took to run the classifier using both normal Pandas & Dask dataframe and during splitting the dataset for training & testing. Dask is proved to the faster although we failed to document the exact time. This unfortunate result becomes our evaluation in this assignment."
   ]
  }
 ],
 "metadata": {
  "kernelspec": {
   "display_name": "Python",
   "language": "python",
   "name": "python3"
  },
  "language_info": {
   "codemirror_mode": {
    "name": "ipython",
    "version": 3
   },
   "file_extension": ".py",
   "mimetype": "text/x-python",
   "name": "python",
   "nbconvert_exporter": "python",
   "pygments_lexer": "ipython3",
   "version": "3.8.10"
  }
 },
 "nbformat": 4,
 "nbformat_minor": 5
}
